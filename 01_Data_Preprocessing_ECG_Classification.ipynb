{
  "nbformat": 4,
  "nbformat_minor": 0,
  "metadata": {
    "colab": {
      "name": "01_Data_Preprocessing_ECG_Classification.ipynb",
      "provenance": [],
      "collapsed_sections": []
    },
    "kernelspec": {
      "name": "python3",
      "display_name": "Python 3"
    },
    "language_info": {
      "name": "python"
    }
  },
  "cells": [
    {
      "cell_type": "markdown",
      "metadata": {
        "id": "x_9q8htbFTFE"
      },
      "source": [
        "# 01 Pre processing dataset"
      ]
    },
    {
      "cell_type": "markdown",
      "metadata": {
        "id": "lpxwn-XdA_7-"
      },
      "source": [
        "### About the dataset\n",
        "\n",
        "Every row contains data from one ECG (2000 point, 250 Hz). Each row has a label (0, 3).\n",
        "The proposed task is to develop a model to classify each ECG in one of the 4 classes.\n",
        "\n",
        "Context\n",
        "I have created this dataset to help me in developing a DL model to analyze ECG taken from a wearable device.\n",
        "\n",
        "Content\n",
        "Data are taken from Physionet 2017 site challenge. https://physionet.org/content/challenge-2017/1.0.0/\n",
        "The csv file contains 8528 ECG tracks, each 2000 points, taken from the Physionet2017 dataset\n",
        "\n",
        "Data have been provided by AliveCor.\n",
        "\n",
        "Acknowledgements\n",
        "Goldberger, A., Amaral, L., Glass, L., Hausdorff, J., Ivanov, P. C., Mark, R., … & Stanley, H. E. (2000). PhysioBank, PhysioToolkit, and PhysioNet: Components of a new research resource for complex physiologic signals. Circulation [Online]. 101 (23), pp. e215–e220."
      ]
    },
    {
      "cell_type": "markdown",
      "metadata": {
        "id": "yMl_IN4jFdcF"
      },
      "source": [
        "Import the dataset from Google Drive, this line of code link Google Drive with Googla Colab Jupyter Notebook"
      ]
    },
    {
      "cell_type": "code",
      "metadata": {
        "colab": {
          "base_uri": "https://localhost:8080/"
        },
        "id": "KvIalo7_6Tyh",
        "outputId": "e81a97e7-f67d-4875-937c-80fd9dfe42a4"
      },
      "source": [
        "from google.colab import drive\n",
        "drive.mount('/content/drive')"
      ],
      "execution_count": null,
      "outputs": [
        {
          "output_type": "stream",
          "name": "stdout",
          "text": [
            "Mounted at /content/drive\n"
          ]
        }
      ]
    },
    {
      "cell_type": "markdown",
      "metadata": {
        "id": "4sOoRFYmFoL-"
      },
      "source": [
        "Import the necessary modules"
      ]
    },
    {
      "cell_type": "code",
      "metadata": {
        "id": "VbhV1ghb9qK2"
      },
      "source": [
        "import pandas as pd\n",
        "import numpy as np\n",
        "import matplotlib.pyplot as plt\n",
        "import seaborn as sns"
      ],
      "execution_count": null,
      "outputs": []
    },
    {
      "cell_type": "markdown",
      "metadata": {
        "id": "v6j94QY_Fu1q"
      },
      "source": [
        "The signal are contained in a csv files, where each row it's a ECG signal"
      ]
    },
    {
      "cell_type": "code",
      "metadata": {
        "colab": {
          "base_uri": "https://localhost:8080/",
          "height": 256
        },
        "id": "BFOmG4n-9yBb",
        "outputId": "c8d0dc6f-acc3-47f2-d0fa-19a79aa8a474"
      },
      "source": [
        "path = r\"/content/drive/MyDrive/Detección de cardiopatías/\"\n",
        "file_name = \"physionet2017.csv\"\n",
        "\n",
        "df = pd.read_csv(path + file_name)\n",
        "df.head()"
      ],
      "execution_count": null,
      "outputs": [
        {
          "output_type": "execute_result",
          "data": {
            "text/html": [
              "<div>\n",
              "<style scoped>\n",
              "    .dataframe tbody tr th:only-of-type {\n",
              "        vertical-align: middle;\n",
              "    }\n",
              "\n",
              "    .dataframe tbody tr th {\n",
              "        vertical-align: top;\n",
              "    }\n",
              "\n",
              "    .dataframe thead th {\n",
              "        text-align: right;\n",
              "    }\n",
              "</style>\n",
              "<table border=\"1\" class=\"dataframe\">\n",
              "  <thead>\n",
              "    <tr style=\"text-align: right;\">\n",
              "      <th></th>\n",
              "      <th>0</th>\n",
              "      <th>1</th>\n",
              "      <th>2</th>\n",
              "      <th>3</th>\n",
              "      <th>4</th>\n",
              "      <th>5</th>\n",
              "      <th>6</th>\n",
              "      <th>7</th>\n",
              "      <th>8</th>\n",
              "      <th>9</th>\n",
              "      <th>10</th>\n",
              "      <th>11</th>\n",
              "      <th>12</th>\n",
              "      <th>13</th>\n",
              "      <th>14</th>\n",
              "      <th>15</th>\n",
              "      <th>16</th>\n",
              "      <th>17</th>\n",
              "      <th>18</th>\n",
              "      <th>19</th>\n",
              "      <th>20</th>\n",
              "      <th>21</th>\n",
              "      <th>22</th>\n",
              "      <th>23</th>\n",
              "      <th>24</th>\n",
              "      <th>25</th>\n",
              "      <th>26</th>\n",
              "      <th>27</th>\n",
              "      <th>28</th>\n",
              "      <th>29</th>\n",
              "      <th>30</th>\n",
              "      <th>31</th>\n",
              "      <th>32</th>\n",
              "      <th>33</th>\n",
              "      <th>34</th>\n",
              "      <th>35</th>\n",
              "      <th>36</th>\n",
              "      <th>37</th>\n",
              "      <th>38</th>\n",
              "      <th>39</th>\n",
              "      <th>...</th>\n",
              "      <th>1962</th>\n",
              "      <th>1963</th>\n",
              "      <th>1964</th>\n",
              "      <th>1965</th>\n",
              "      <th>1966</th>\n",
              "      <th>1967</th>\n",
              "      <th>1968</th>\n",
              "      <th>1969</th>\n",
              "      <th>1970</th>\n",
              "      <th>1971</th>\n",
              "      <th>1972</th>\n",
              "      <th>1973</th>\n",
              "      <th>1974</th>\n",
              "      <th>1975</th>\n",
              "      <th>1976</th>\n",
              "      <th>1977</th>\n",
              "      <th>1978</th>\n",
              "      <th>1979</th>\n",
              "      <th>1980</th>\n",
              "      <th>1981</th>\n",
              "      <th>1982</th>\n",
              "      <th>1983</th>\n",
              "      <th>1984</th>\n",
              "      <th>1985</th>\n",
              "      <th>1986</th>\n",
              "      <th>1987</th>\n",
              "      <th>1988</th>\n",
              "      <th>1989</th>\n",
              "      <th>1990</th>\n",
              "      <th>1991</th>\n",
              "      <th>1992</th>\n",
              "      <th>1993</th>\n",
              "      <th>1994</th>\n",
              "      <th>1995</th>\n",
              "      <th>1996</th>\n",
              "      <th>1997</th>\n",
              "      <th>1998</th>\n",
              "      <th>1999</th>\n",
              "      <th>name</th>\n",
              "      <th>label</th>\n",
              "    </tr>\n",
              "  </thead>\n",
              "  <tbody>\n",
              "    <tr>\n",
              "      <th>0</th>\n",
              "      <td>0.035032</td>\n",
              "      <td>0.037155</td>\n",
              "      <td>0.044586</td>\n",
              "      <td>0.063694</td>\n",
              "      <td>0.076433</td>\n",
              "      <td>0.085987</td>\n",
              "      <td>0.089172</td>\n",
              "      <td>0.083864</td>\n",
              "      <td>0.072187</td>\n",
              "      <td>0.061571</td>\n",
              "      <td>0.049894</td>\n",
              "      <td>0.039278</td>\n",
              "      <td>0.029724</td>\n",
              "      <td>0.013800</td>\n",
              "      <td>-0.003185</td>\n",
              "      <td>-0.010616</td>\n",
              "      <td>-0.014862</td>\n",
              "      <td>-0.018047</td>\n",
              "      <td>-0.021231</td>\n",
              "      <td>-0.023355</td>\n",
              "      <td>-0.024416</td>\n",
              "      <td>-0.024416</td>\n",
              "      <td>-0.024416</td>\n",
              "      <td>-0.023355</td>\n",
              "      <td>-0.022293</td>\n",
              "      <td>-0.021231</td>\n",
              "      <td>-0.018047</td>\n",
              "      <td>-0.014862</td>\n",
              "      <td>-0.009554</td>\n",
              "      <td>0.000000</td>\n",
              "      <td>0.018047</td>\n",
              "      <td>0.055202</td>\n",
              "      <td>0.110403</td>\n",
              "      <td>0.187898</td>\n",
              "      <td>0.288747</td>\n",
              "      <td>0.407643</td>\n",
              "      <td>0.540340</td>\n",
              "      <td>0.673036</td>\n",
              "      <td>0.788747</td>\n",
              "      <td>0.860934</td>\n",
              "      <td>...</td>\n",
              "      <td>-0.005308</td>\n",
              "      <td>-0.007431</td>\n",
              "      <td>-0.008493</td>\n",
              "      <td>-0.009554</td>\n",
              "      <td>-0.009554</td>\n",
              "      <td>-0.009554</td>\n",
              "      <td>-0.009554</td>\n",
              "      <td>-0.008493</td>\n",
              "      <td>-0.007431</td>\n",
              "      <td>-0.007431</td>\n",
              "      <td>-0.007431</td>\n",
              "      <td>-0.007431</td>\n",
              "      <td>-0.008493</td>\n",
              "      <td>-0.008493</td>\n",
              "      <td>-0.010616</td>\n",
              "      <td>-0.008493</td>\n",
              "      <td>0.002123</td>\n",
              "      <td>0.014862</td>\n",
              "      <td>0.027601</td>\n",
              "      <td>0.041401</td>\n",
              "      <td>0.054140</td>\n",
              "      <td>0.065817</td>\n",
              "      <td>0.070064</td>\n",
              "      <td>0.072187</td>\n",
              "      <td>0.074310</td>\n",
              "      <td>0.076433</td>\n",
              "      <td>0.074310</td>\n",
              "      <td>0.057325</td>\n",
              "      <td>0.038217</td>\n",
              "      <td>0.020170</td>\n",
              "      <td>0.008493</td>\n",
              "      <td>0.000000</td>\n",
              "      <td>-0.007431</td>\n",
              "      <td>-0.012739</td>\n",
              "      <td>-0.015924</td>\n",
              "      <td>-0.019108</td>\n",
              "      <td>-0.023355</td>\n",
              "      <td>-0.022293</td>\n",
              "      <td>A00/A00001</td>\n",
              "      <td>0</td>\n",
              "    </tr>\n",
              "    <tr>\n",
              "      <th>1</th>\n",
              "      <td>-0.035288</td>\n",
              "      <td>-0.032573</td>\n",
              "      <td>-0.030945</td>\n",
              "      <td>-0.029859</td>\n",
              "      <td>-0.031488</td>\n",
              "      <td>-0.034202</td>\n",
              "      <td>-0.037459</td>\n",
              "      <td>-0.040717</td>\n",
              "      <td>-0.043974</td>\n",
              "      <td>-0.047231</td>\n",
              "      <td>-0.051031</td>\n",
              "      <td>-0.053746</td>\n",
              "      <td>-0.054832</td>\n",
              "      <td>-0.054289</td>\n",
              "      <td>-0.051574</td>\n",
              "      <td>-0.047774</td>\n",
              "      <td>-0.043431</td>\n",
              "      <td>-0.037459</td>\n",
              "      <td>-0.027687</td>\n",
              "      <td>-0.019544</td>\n",
              "      <td>-0.014115</td>\n",
              "      <td>-0.009229</td>\n",
              "      <td>-0.005429</td>\n",
              "      <td>-0.003257</td>\n",
              "      <td>-0.002714</td>\n",
              "      <td>-0.004886</td>\n",
              "      <td>-0.008686</td>\n",
              "      <td>-0.012486</td>\n",
              "      <td>-0.016287</td>\n",
              "      <td>-0.021716</td>\n",
              "      <td>-0.025516</td>\n",
              "      <td>-0.026059</td>\n",
              "      <td>-0.023344</td>\n",
              "      <td>-0.019001</td>\n",
              "      <td>-0.013029</td>\n",
              "      <td>-0.004886</td>\n",
              "      <td>0.000543</td>\n",
              "      <td>0.004886</td>\n",
              "      <td>0.008143</td>\n",
              "      <td>0.010315</td>\n",
              "      <td>...</td>\n",
              "      <td>0.005972</td>\n",
              "      <td>0.000000</td>\n",
              "      <td>-0.001629</td>\n",
              "      <td>-0.002714</td>\n",
              "      <td>-0.003800</td>\n",
              "      <td>-0.004886</td>\n",
              "      <td>-0.005972</td>\n",
              "      <td>-0.006515</td>\n",
              "      <td>-0.007058</td>\n",
              "      <td>-0.007600</td>\n",
              "      <td>-0.008143</td>\n",
              "      <td>-0.008143</td>\n",
              "      <td>-0.008686</td>\n",
              "      <td>-0.009229</td>\n",
              "      <td>-0.009772</td>\n",
              "      <td>-0.009772</td>\n",
              "      <td>-0.009229</td>\n",
              "      <td>-0.009229</td>\n",
              "      <td>-0.009229</td>\n",
              "      <td>-0.008686</td>\n",
              "      <td>-0.008686</td>\n",
              "      <td>-0.008143</td>\n",
              "      <td>-0.007600</td>\n",
              "      <td>-0.006515</td>\n",
              "      <td>-0.005972</td>\n",
              "      <td>-0.005429</td>\n",
              "      <td>-0.004886</td>\n",
              "      <td>-0.004343</td>\n",
              "      <td>-0.003800</td>\n",
              "      <td>-0.002714</td>\n",
              "      <td>-0.001629</td>\n",
              "      <td>-0.001086</td>\n",
              "      <td>-0.000543</td>\n",
              "      <td>-0.000543</td>\n",
              "      <td>0.000000</td>\n",
              "      <td>0.000000</td>\n",
              "      <td>0.000543</td>\n",
              "      <td>0.001086</td>\n",
              "      <td>A00/A00002</td>\n",
              "      <td>0</td>\n",
              "    </tr>\n",
              "    <tr>\n",
              "      <th>2</th>\n",
              "      <td>-0.303922</td>\n",
              "      <td>-0.261438</td>\n",
              "      <td>-0.222222</td>\n",
              "      <td>-0.192810</td>\n",
              "      <td>-0.176471</td>\n",
              "      <td>-0.163399</td>\n",
              "      <td>-0.147059</td>\n",
              "      <td>-0.130719</td>\n",
              "      <td>-0.117647</td>\n",
              "      <td>-0.107843</td>\n",
              "      <td>-0.094771</td>\n",
              "      <td>-0.084967</td>\n",
              "      <td>-0.071895</td>\n",
              "      <td>-0.058824</td>\n",
              "      <td>-0.039216</td>\n",
              "      <td>-0.006536</td>\n",
              "      <td>0.052288</td>\n",
              "      <td>0.088235</td>\n",
              "      <td>0.111111</td>\n",
              "      <td>0.124183</td>\n",
              "      <td>0.133987</td>\n",
              "      <td>0.137255</td>\n",
              "      <td>0.133987</td>\n",
              "      <td>0.124183</td>\n",
              "      <td>0.114379</td>\n",
              "      <td>0.101307</td>\n",
              "      <td>0.094771</td>\n",
              "      <td>0.081699</td>\n",
              "      <td>0.071895</td>\n",
              "      <td>0.062092</td>\n",
              "      <td>0.052288</td>\n",
              "      <td>0.045752</td>\n",
              "      <td>0.035948</td>\n",
              "      <td>0.029412</td>\n",
              "      <td>0.019608</td>\n",
              "      <td>0.006536</td>\n",
              "      <td>0.000000</td>\n",
              "      <td>-0.006536</td>\n",
              "      <td>0.000000</td>\n",
              "      <td>0.016340</td>\n",
              "      <td>...</td>\n",
              "      <td>0.179739</td>\n",
              "      <td>0.176471</td>\n",
              "      <td>0.169935</td>\n",
              "      <td>0.156863</td>\n",
              "      <td>0.140523</td>\n",
              "      <td>0.120915</td>\n",
              "      <td>0.101307</td>\n",
              "      <td>0.075163</td>\n",
              "      <td>0.045752</td>\n",
              "      <td>0.022876</td>\n",
              "      <td>0.000000</td>\n",
              "      <td>-0.029412</td>\n",
              "      <td>-0.062092</td>\n",
              "      <td>-0.084967</td>\n",
              "      <td>-0.107843</td>\n",
              "      <td>-0.137255</td>\n",
              "      <td>-0.169935</td>\n",
              "      <td>-0.209150</td>\n",
              "      <td>-0.228758</td>\n",
              "      <td>-0.241830</td>\n",
              "      <td>-0.254902</td>\n",
              "      <td>-0.267974</td>\n",
              "      <td>-0.277778</td>\n",
              "      <td>-0.287582</td>\n",
              "      <td>-0.294118</td>\n",
              "      <td>-0.300654</td>\n",
              "      <td>-0.310458</td>\n",
              "      <td>-0.316993</td>\n",
              "      <td>-0.330065</td>\n",
              "      <td>-0.339869</td>\n",
              "      <td>-0.346405</td>\n",
              "      <td>-0.339869</td>\n",
              "      <td>-0.323529</td>\n",
              "      <td>-0.297386</td>\n",
              "      <td>-0.264706</td>\n",
              "      <td>-0.209150</td>\n",
              "      <td>-0.117647</td>\n",
              "      <td>-0.065359</td>\n",
              "      <td>A00/A00003</td>\n",
              "      <td>0</td>\n",
              "    </tr>\n",
              "    <tr>\n",
              "      <th>3</th>\n",
              "      <td>0.109467</td>\n",
              "      <td>0.117604</td>\n",
              "      <td>0.128698</td>\n",
              "      <td>0.142012</td>\n",
              "      <td>0.153107</td>\n",
              "      <td>0.161982</td>\n",
              "      <td>0.170118</td>\n",
              "      <td>0.176036</td>\n",
              "      <td>0.181213</td>\n",
              "      <td>0.184911</td>\n",
              "      <td>0.187130</td>\n",
              "      <td>0.190828</td>\n",
              "      <td>0.193787</td>\n",
              "      <td>0.196006</td>\n",
              "      <td>0.198225</td>\n",
              "      <td>0.198964</td>\n",
              "      <td>0.197485</td>\n",
              "      <td>0.194527</td>\n",
              "      <td>0.190089</td>\n",
              "      <td>0.184172</td>\n",
              "      <td>0.177515</td>\n",
              "      <td>0.167160</td>\n",
              "      <td>0.148669</td>\n",
              "      <td>0.133136</td>\n",
              "      <td>0.116864</td>\n",
              "      <td>0.101331</td>\n",
              "      <td>0.085059</td>\n",
              "      <td>0.072485</td>\n",
              "      <td>0.061391</td>\n",
              "      <td>0.049556</td>\n",
              "      <td>0.036982</td>\n",
              "      <td>0.025888</td>\n",
              "      <td>0.016272</td>\n",
              "      <td>0.007396</td>\n",
              "      <td>0.000000</td>\n",
              "      <td>-0.007396</td>\n",
              "      <td>-0.012574</td>\n",
              "      <td>-0.017751</td>\n",
              "      <td>-0.022189</td>\n",
              "      <td>-0.026627</td>\n",
              "      <td>...</td>\n",
              "      <td>-0.014793</td>\n",
              "      <td>-0.016272</td>\n",
              "      <td>-0.018491</td>\n",
              "      <td>-0.020710</td>\n",
              "      <td>-0.023669</td>\n",
              "      <td>-0.026627</td>\n",
              "      <td>-0.029586</td>\n",
              "      <td>-0.033284</td>\n",
              "      <td>-0.036982</td>\n",
              "      <td>-0.039941</td>\n",
              "      <td>-0.042160</td>\n",
              "      <td>-0.045118</td>\n",
              "      <td>-0.048817</td>\n",
              "      <td>-0.054734</td>\n",
              "      <td>-0.062870</td>\n",
              "      <td>-0.067308</td>\n",
              "      <td>-0.071006</td>\n",
              "      <td>-0.073964</td>\n",
              "      <td>-0.071746</td>\n",
              "      <td>-0.059172</td>\n",
              "      <td>-0.025148</td>\n",
              "      <td>0.031065</td>\n",
              "      <td>0.114645</td>\n",
              "      <td>0.225592</td>\n",
              "      <td>0.358728</td>\n",
              "      <td>0.506657</td>\n",
              "      <td>0.652367</td>\n",
              "      <td>0.777367</td>\n",
              "      <td>0.844675</td>\n",
              "      <td>0.846154</td>\n",
              "      <td>0.780325</td>\n",
              "      <td>0.640533</td>\n",
              "      <td>0.467456</td>\n",
              "      <td>0.298077</td>\n",
              "      <td>0.165680</td>\n",
              "      <td>0.085799</td>\n",
              "      <td>0.012574</td>\n",
              "      <td>0.013314</td>\n",
              "      <td>A00/A00004</td>\n",
              "      <td>1</td>\n",
              "    </tr>\n",
              "    <tr>\n",
              "      <th>4</th>\n",
              "      <td>-0.019856</td>\n",
              "      <td>-0.017148</td>\n",
              "      <td>-0.014440</td>\n",
              "      <td>-0.011733</td>\n",
              "      <td>-0.009928</td>\n",
              "      <td>-0.008123</td>\n",
              "      <td>-0.006318</td>\n",
              "      <td>-0.004513</td>\n",
              "      <td>-0.003610</td>\n",
              "      <td>-0.001805</td>\n",
              "      <td>0.000000</td>\n",
              "      <td>0.000903</td>\n",
              "      <td>0.002708</td>\n",
              "      <td>0.004513</td>\n",
              "      <td>0.005415</td>\n",
              "      <td>0.006318</td>\n",
              "      <td>0.008123</td>\n",
              "      <td>0.009025</td>\n",
              "      <td>0.010830</td>\n",
              "      <td>0.010830</td>\n",
              "      <td>0.011733</td>\n",
              "      <td>0.011733</td>\n",
              "      <td>0.012635</td>\n",
              "      <td>0.013538</td>\n",
              "      <td>0.014440</td>\n",
              "      <td>0.015343</td>\n",
              "      <td>0.016245</td>\n",
              "      <td>0.017148</td>\n",
              "      <td>0.018051</td>\n",
              "      <td>0.018953</td>\n",
              "      <td>0.020758</td>\n",
              "      <td>0.022563</td>\n",
              "      <td>0.023466</td>\n",
              "      <td>0.025271</td>\n",
              "      <td>0.026173</td>\n",
              "      <td>0.029783</td>\n",
              "      <td>0.036101</td>\n",
              "      <td>0.027076</td>\n",
              "      <td>0.018051</td>\n",
              "      <td>0.011733</td>\n",
              "      <td>...</td>\n",
              "      <td>-0.074910</td>\n",
              "      <td>-0.061372</td>\n",
              "      <td>-0.024368</td>\n",
              "      <td>0.036101</td>\n",
              "      <td>0.128159</td>\n",
              "      <td>0.258123</td>\n",
              "      <td>0.421480</td>\n",
              "      <td>0.600181</td>\n",
              "      <td>0.763538</td>\n",
              "      <td>0.851083</td>\n",
              "      <td>0.849278</td>\n",
              "      <td>0.750000</td>\n",
              "      <td>0.520758</td>\n",
              "      <td>0.222924</td>\n",
              "      <td>-0.075812</td>\n",
              "      <td>-0.305957</td>\n",
              "      <td>-0.414260</td>\n",
              "      <td>-0.434116</td>\n",
              "      <td>-0.423285</td>\n",
              "      <td>-0.408845</td>\n",
              "      <td>-0.404332</td>\n",
              "      <td>-0.416968</td>\n",
              "      <td>-0.431408</td>\n",
              "      <td>-0.443141</td>\n",
              "      <td>-0.443141</td>\n",
              "      <td>-0.434116</td>\n",
              "      <td>-0.423285</td>\n",
              "      <td>-0.407040</td>\n",
              "      <td>-0.381769</td>\n",
              "      <td>-0.347473</td>\n",
              "      <td>-0.306859</td>\n",
              "      <td>-0.260830</td>\n",
              "      <td>-0.214801</td>\n",
              "      <td>-0.168773</td>\n",
              "      <td>-0.124549</td>\n",
              "      <td>-0.083935</td>\n",
              "      <td>-0.051444</td>\n",
              "      <td>0.000000</td>\n",
              "      <td>A00/A00005</td>\n",
              "      <td>1</td>\n",
              "    </tr>\n",
              "  </tbody>\n",
              "</table>\n",
              "<p>5 rows × 2002 columns</p>\n",
              "</div>"
            ],
            "text/plain": [
              "          0         1         2  ...      1999        name  label\n",
              "0  0.035032  0.037155  0.044586  ... -0.022293  A00/A00001      0\n",
              "1 -0.035288 -0.032573 -0.030945  ...  0.001086  A00/A00002      0\n",
              "2 -0.303922 -0.261438 -0.222222  ... -0.065359  A00/A00003      0\n",
              "3  0.109467  0.117604  0.128698  ...  0.013314  A00/A00004      1\n",
              "4 -0.019856 -0.017148 -0.014440  ...  0.000000  A00/A00005      1\n",
              "\n",
              "[5 rows x 2002 columns]"
            ]
          },
          "metadata": {},
          "execution_count": 96
        }
      ]
    },
    {
      "cell_type": "code",
      "metadata": {
        "colab": {
          "base_uri": "https://localhost:8080/"
        },
        "id": "GdAie1h7_32e",
        "outputId": "38d45666-06d7-4733-c47b-720fc247a2a9"
      },
      "source": [
        "print(\"The numbers of ECG signals: {} and each signal has: {} samples\".format(df.shape[0], df.shape[1] - 2))\n",
        "print(\"The categorical classes of ECG: {}\".format(df[\"label\"].unique()))\n",
        "print(\"Numbers of signals for each class\")\n",
        "print(df[\"label\"].value_counts())"
      ],
      "execution_count": null,
      "outputs": [
        {
          "output_type": "stream",
          "name": "stdout",
          "text": [
            "The numbers of ECG signals: 8528 and each signal has: 2000 samples\n",
            "The categorical classes of ECG: [0 1 2 3]\n",
            "Numbers of signals for each class\n",
            "0    5076\n",
            "2    2415\n",
            "1     758\n",
            "3     279\n",
            "Name: label, dtype: int64\n"
          ]
        }
      ]
    },
    {
      "cell_type": "markdown",
      "metadata": {
        "id": "6e0vk9vRSGgs"
      },
      "source": [
        "**Classes**\n",
        "\n",
        "* 0 --> \"Normal rhythm\"\n",
        "* 1 --> \"AF rhythm\"\n",
        "* 2 --> \"Other rhythm\"\n",
        "* 3 --> \"Noisy recording\""
      ]
    },
    {
      "cell_type": "markdown",
      "metadata": {
        "id": "krWplWTVIj28"
      },
      "source": [
        "Looking for **missing** values in the dataset"
      ]
    },
    {
      "cell_type": "code",
      "metadata": {
        "colab": {
          "base_uri": "https://localhost:8080/"
        },
        "id": "0OpXPjJBIsxm",
        "outputId": "6f055723-8a9b-4d17-a94b-94b17cf2ab68"
      },
      "source": [
        "missing_data = df.isnull()\n",
        "columns_missing_data = []\n",
        "for column in df.columns.values.tolist():\n",
        "  columnn_missing_data = missing_data[column].value_counts()\n",
        "  if len(columnn_missing_data) == 2:\n",
        "    print(column)\n",
        "    print(columnn_missing_data)\n",
        "    print(\"\")\n",
        "    columns_missing_data.append(column)\n",
        "\n",
        "if len(columns_missing_data) == 0:\n",
        "  print(\"none of the columns have missing values\")\n",
        "else:\n",
        "  print(\"These columns have missing data:\")\n",
        "  print(columns_missing_data)"
      ],
      "execution_count": null,
      "outputs": [
        {
          "output_type": "stream",
          "name": "stdout",
          "text": [
            "none of the columns have missing values\n"
          ]
        }
      ]
    },
    {
      "cell_type": "markdown",
      "metadata": {
        "id": "n4bre_tVKTZ7"
      },
      "source": [
        "Great!, the dateset does not have missing values"
      ]
    },
    {
      "cell_type": "markdown",
      "metadata": {
        "id": "awf8sf8HGpRS"
      },
      "source": [
        "Let's Separate the data in different arrays:\n",
        "\n",
        "* X: the ecg signals\n",
        "* y: label class "
      ]
    },
    {
      "cell_type": "code",
      "metadata": {
        "colab": {
          "base_uri": "https://localhost:8080/"
        },
        "id": "IQbMCL6BG_6t",
        "outputId": "056b89fd-fdde-45ef-b566-46b68d3877fc"
      },
      "source": [
        "y = np.asanyarray(df[\"label\"])\n",
        "print(np.unique(y))\n",
        "print(y[0:5])"
      ],
      "execution_count": null,
      "outputs": [
        {
          "output_type": "stream",
          "name": "stdout",
          "text": [
            "[0 1 2 3]\n",
            "[0 0 0 1 1]\n"
          ]
        }
      ]
    },
    {
      "cell_type": "markdown",
      "metadata": {
        "id": "drFQvttbHQq-"
      },
      "source": [
        "Now, Drops the columns that are not neccesary \n",
        "* Columns = \"label\" & \"name\""
      ]
    },
    {
      "cell_type": "code",
      "metadata": {
        "id": "DcjXFhXFDIZl"
      },
      "source": [
        "df.drop(columns = [\"name\", \"label\"], axis = 1, inplace = True)\n",
        "X = np.asanyarray(df)"
      ],
      "execution_count": null,
      "outputs": []
    },
    {
      "cell_type": "markdown",
      "metadata": {
        "id": "P-KNqiGUKgn6"
      },
      "source": [
        "### Data Visualization of the dataset for each class"
      ]
    },
    {
      "cell_type": "code",
      "metadata": {
        "id": "Q5ptY8etNg1A"
      },
      "source": [
        "#creating an array of samples\n",
        "n = len(X[0])\n",
        "samples = np.arange(0, n)\n",
        "\n",
        "#class 0\n",
        "x_0 = X[0]\n",
        "#class 1\n",
        "x_1 = X[4]\n",
        "#class 2\n",
        "x_2 = X[12]\n",
        "#class 3\n",
        "x_3 = X[21]"
      ],
      "execution_count": null,
      "outputs": []
    },
    {
      "cell_type": "code",
      "metadata": {
        "colab": {
          "base_uri": "https://localhost:8080/",
          "height": 475
        },
        "id": "j1ZaeGqjDqp0",
        "outputId": "a7366e72-65e9-4f1e-dd15-d0fdf588789d"
      },
      "source": [
        "fig, axes = plt.subplots(2, 2, figsize = (12, 7))\n",
        "\n",
        "sns.lineplot(x = samples, y = x_0, ax = axes[0][0])\n",
        "axes[0][0].set_title(\"Normal rhytm\")\n",
        "axes[0][0].set_ylabel(\"voltage\")\n",
        "sns.lineplot(x = samples, y = x_1, ax = axes[0][1])\n",
        "axes[0][1].set_title(\"AF rhythm\")\n",
        "axes[0][1].set_ylabel(\"voltage\")\n",
        "sns.lineplot(x = samples, y = x_2, ax = axes[1][0])\n",
        "axes[1][0].set_title(\"Other rhythm\")\n",
        "axes[1][0].set_ylabel(\"voltage\")\n",
        "axes[1][1].set_ylabel(\"samples\")\n",
        "sns.lineplot(x = samples, y = x_3, ax = axes[1][1])\n",
        "axes[1][1].set_title(\"Noisy rhythm\")\n",
        "axes[1][1].set_ylabel(\"voltage\")\n",
        "axes[1][1].set_xlabel(\"samples\")"
      ],
      "execution_count": null,
      "outputs": [
        {
          "output_type": "execute_result",
          "data": {
            "text/plain": [
              "Text(0.5, 0, 'samples')"
            ]
          },
          "metadata": {},
          "execution_count": 93
        },
        {
          "output_type": "display_data",
          "data": {
            "image/png": "[encoded data removed]",
            "text/plain": [
              "<Figure size 864x504 with 4 Axes>"
            ]
          },
          "metadata": {
            "needs_background": "light"
          }
        }
      ]
    },
    {
      "cell_type": "code",
      "metadata": {
        "id": "Iz-QOYB6RdWz"
      },
      "source": [
        "np.save(\"Target.npy\", y)\n",
        "np.save(\"ECG_signals.npy\", X)"
      ],
      "execution_count": null,
      "outputs": []
    },
    {
      "cell_type": "code",
      "metadata": {
        "id": "vYY3hqsNS-ht"
      },
      "source": [
        ""
      ],
      "execution_count": null,
      "outputs": []
    }
  ]
}